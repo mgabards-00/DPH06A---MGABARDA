{
 "cells": [
  {
   "cell_type": "markdown",
   "metadata": {},
   "source": [
    "### **E-commerce Analysis with Markdown**\n",
    "This is a simple data exploration exercise using just markdown. \n",
    "\n",
    "Imagine you have a dataset containing information about online store orders. Let's explore some trends!\n",
    "\n",
    "**Table:**\n",
    "\n",
    "| order_id  | customer_id | order_date  | order_value ($)   | product_category |\n",
    "|-----------|-------------|-------------|-------------------|------------------|\n",
    "| 001       | 23          | 02/04/2024  | 200               | Food             |\n",
    "| 002       | 25          | 02/06/2024  | 300               | Electronics      |\n",
    "| 003       | 23          | 02/10/2024  | 1000              | Healthcare       |\n",
    "| 004       | 18          | 02/18/2024  | 800               | Clothing         |\n",
    "| 005       | 21          | 03/01/2024  | 3000              | Food             |\n",
    "| 006       | 05          | 03/03/2024  | 500               | Healthcare       |\n",
    "| 007       | 29          | 03/04/2024  | 600               | Food             |\n",
    "| 008       | 10          | 03/08/2024  | 5000              | Electronics      |\n",
    "| 009       | 22          | 03/12/2024  | 400               | Healthcare       |\n",
    "| 010       | 05          | 03/15/2024  | 1200              | Clothing         |\n",
    "| 011       | 19          | 03/18/2024  | 500               | Food             |\n",
    "| 012       | 05          | 03/26/2024  | 600               | Healthcare       |\n",
    "\n",
    "**Columns:**\n",
    "\n",
    "- **order_id**: Unique identifier for the order (text).\n",
    "- **customer_id**: Unique identifier for the customer (text).\n",
    "- **order_date**: Date of the order (text, format MM/DD/YYYY).\n",
    "- **order_value**: Total value of the order (number).\n",
    "- **product_category**: Category of the main product purchased (text).\n",
    "\n",
    "**Tasks:**\n",
    "\n",
    "1. Describe the Data:"
   ]
  },
  {
   "cell_type": "markdown",
   "metadata": {},
   "source": [
    "#\n",
    "- How many orders are there in total?\n",
    "- What are some summary statistics for the order_value (e.g., mean, median, minimum, maximum)?\n",
    "\n",
    "2. Explore Trends:\n",
    "\n",
    "- Are there any differences in average order value by product_category?\n",
    "\n",
    "**How to Solve:**\n",
    "\n",
    "- While you cannot perform calculations directly in markdown, you can use it to structure your analysis.\n",
    "\n",
    "1. Descriptive Statistics:\n",
    "\n",
    "    - Use markdown headings and text to explain what you're analyzing (e.g., \"Total Orders\").\n",
    "    - Get the results of your calculations and write them down (e.g., \"Total Orders: 1000\").\n",
    "\n",
    "2. Category Comparison:\n",
    "\n",
    "    - Create a table with headers \"Product Category\" and \"Average Order Value\".\n",
    "    - Fill the table with the average values of each category (e.g., \"Electronics: $ 250\").\n",
    "\n",
    "Remember:\n",
    "This is a simplified exercise. Real data analysis would involve data cleaning, visualization, and further exploration."
   ]
  },
  {
   "cell_type": "markdown",
   "metadata": {},
   "source": [
    "## ANSWERS:"
   ]
  },
  {
   "cell_type": "markdown",
   "metadata": {},
   "source": [
    "## PRODUCT ORDERS:"
   ]
  },
  {
   "cell_type": "markdown",
   "metadata": {},
   "source": [
    "*This will provide all the needed information from the given table/data above*"
   ]
  },
  {
   "cell_type": "markdown",
   "metadata": {},
   "source": [
    "### How Many Orders are there in total?\n",
    "\n",
    "There are total of **twelve (12)** orders"
   ]
  },
  {
   "cell_type": "markdown",
   "metadata": {},
   "source": [
    "### What are some summary statistics for the order_value?"
   ]
  },
  {
   "cell_type": "markdown",
   "metadata": {},
   "source": [
    "### PRODUCT STATISTICS PER ORDER VALUE:\n",
    "1. Food\n",
    "- Mean: 1075\n",
    "- Median: 550\n",
    "- Range: 2800\n",
    "- Max Order Value: 3000\n",
    "- Min Order Value: 200\n",
    "- Sum of Total Order Value: 4300\n",
    "- Count of Orders: 4\n",
    "- Sorted Order IDs: 001,005,007,011\n",
    "\n",
    "2. Electronics\n",
    "- Mean: 2650\n",
    "- Median: 2650\n",
    "- Range: 4700\n",
    "- Max Order Value: 5000\n",
    "- Min Order Value: 300\n",
    "- Sum of Total Order Value: 5300\n",
    "- Count of Orders: 2\n",
    "- Sorted Order IDs: 002,008\n",
    "\n",
    "3. Healthcare\n",
    "- Mean: 625\n",
    "- Median: 550\n",
    "- Range: 600\n",
    "- Max Order Value: 1000\n",
    "- Min Order Value: 400\n",
    "- Sum of Total Order Value: 2500\n",
    "- Count of Orders: 4\n",
    "- Sorted Order IDs: 003,006,009,012\n",
    "\n",
    "4. Clothing\n",
    "- Mean: 1000\n",
    "- Median: 1000\n",
    "- Range: 400\n",
    "- Max Order Value: 1200\n",
    "- Min Order Value: 800\n",
    "- Sum of Total Order Value: 2000\n",
    "- Count of Orders: 2\n",
    "- Sorted Order IDs: 004, 010"
   ]
  },
  {
   "cell_type": "markdown",
   "metadata": {},
   "source": [
    "##### Are there any differences in average order value by product_category?\n",
    " - YES, You can reference from the table below:"
   ]
  },
  {
   "cell_type": "markdown",
   "metadata": {},
   "source": [
    "| Product category  | Average order value\n",
    "|----------|----------|\n",
    "| Food | 1075 |\n",
    "| Electronics | 2650 | \n",
    "| Healthcare | 625 |\n",
    "| Clothing | 1000 |"
   ]
  },
  {
   "cell_type": "markdown",
   "metadata": {},
   "source": [
    "\n",
    "## **SALES REPORT - COMPANY XYZ**\n",
    "\n",
    "### Order Results\n",
    "We have here the data of the online orders from the store this past few weeks, shown on Table 1. \n",
    "\n",
    "We have a total of **$ 14,100** Order Value for the recorded sales. \n",
    "\n",
    "### **Table 1:**\n",
    "\n",
    "   | order_id  | customer_id | order_date  | order_value ($) | product_category |\n",
    "   |-----------|-------------|-------------|-------------------|------------------|\n",
    "   | 001       | 23          | 02/04/2024  | 200               | Food             |\n",
    "   | 002       | 25          | 02/06/2024  | 300               | Electronics      |\n",
    "   | 003       | 23          | 02/10/2024  | 1000              | Healthcare       |\n",
    "   | 004       | 18          | 02/18/2024  | 800               | Clothing         |\n",
    "   | 005       | 21          | 03/01/2024  | 3000              | Food             |\n",
    "   | 006       | 05          | 03/03/2024  | 500               | Healthcare       |\n",
    "   | 007       | 29          | 03/04/2024  | 600               | Food             |\n",
    "   | 008       | 10          | 03/08/2024  | 5000              | Electronics      |\n",
    "   | 009       | 22          | 03/12/2024  | 400               | Healthcare       |\n",
    "   | 010       | 05          | 03/15/2024  | 1200              | Clothing         |\n",
    "   | 011       | 19          | 03/18/2024  | 500               | Food             |\n",
    "   | 012       | 05          | 03/26/2024  | 600               | Healthcare       |\n",
    "\n",
    "#### Table 2 shows the _Product Category_  and the _Average_ customer has purchased to us:\n",
    "\n",
    "### **Table 2:**\n",
    "\n",
    "    \n",
    "   | product_category | order_value ($) | Average order_value ($)  | \n",
    "   |------------------|-------------------|----------------------------|\n",
    "   | Food             | 4300              | 1075                       | \n",
    "   | Electronics      | 5300              | 2650                       | \n",
    "   | Healthcare       | 2500              |  625                       | \n",
    "   | Clothing         | 2000              | 1000                       | \n",
    "   |    Total         |    14000          |                            | \n",
    "\n",
    "#### In Table 3 we arrived at this Statistical Data, based on the table above:\n",
    "\n",
    "### **Table 3:**\n",
    "\n",
    "    \n",
    "   | Statistical Order_value | Value ($)   | product_category  | \n",
    "   |-------------------------|-------------|-------------------|\n",
    "   | Mean                    | 1175        |                   | \n",
    "   | Median                  | 600         |                   | \n",
    "   | Minimum                 | 200         |  Food             | \n",
    "   | Maximum                 | 5000        | Electronics       | \n",
    "   \n",
    "## (Hypothetical Insights)\n",
    "1. Customers prefer buying Electronics than other items. This may be due to natural phenomena such as weather and convenience.\n",
    "2. Since food, clothing, and healthcare are basic necessities for our customers, we must ensure an adequate supply of these items.\n"
   ]
  },
  {
   "cell_type": "markdown",
   "metadata": {},
   "source": [
    "# Exercise: Formatting Data into Markdown Tables\n",
    "Objective:\n",
    "You will be given a dataset in CSV format. Your task is to convert this dataset into a Markdown table format.\n",
    "\n",
    "Instructions:\n",
    "\n",
    "**1. Convert the Dataset:** Convert the provided dataset into a Markdown table format.\n",
    "\n",
    "**2. Use Markdown Syntax:** Make sure to use proper Markdown table syntax to format the table.\n",
    "\n",
    "**3. Ensure Readability:** Ensure that the table is properly aligned and readable.\n",
    "\n",
    "__ID,Name,Age,Department,Salary__\n",
    "\n",
    "- 1,John Doe,28,Marketing,50000\n",
    "\n",
    "- 2,Jane Smith,34,Sales,55000\n",
    "\n",
    "- 3,Emily Davis,29,Engineering,60000\n",
    "\n",
    "- 4,Michael Brown,42,HR,52000\n",
    "\n",
    "- 5,Alice Johnson,31,Finance,58000\n",
    "\n",
    "- 6,Robert White,37,IT,62000\n",
    "\n",
    "- 7,Jessica Lee,26,Marketing,51000\n",
    "\n",
    "- 8,David Wilson,45,Sales,57000\n",
    "\n",
    "- 9,Linda Clark,38,Engineering,61000\n",
    "\n",
    "- 10,James Lewis,33,Finance,59000"
   ]
  },
  {
   "cell_type": "markdown",
   "metadata": {},
   "source": [
    "| id_number | full_name | age_number | department_name | salary_range\n",
    "|------|-----|------|-----|-----|\n",
    "| 1 | John Doe | 28 | Marketing | 50000 |\n",
    "| 2 | Jane Smith | 34 | Sales | 55000 |\n",
    "| 3 | Emily Davis | 29 | Engineering | 60000 |\n",
    "| 4 | Michael Brown | 42 | HR | 52000 |\n",
    "| 5 | Alice Johnson | 31 | Finance | 58000 |\n",
    "| 6 | Robert White |  37 | IT | 62000 |\n",
    "| 7 | Jessica Lee | 26 | Marketing | 51000 |\n",
    "| 8 | David Wilson | 45 | Sales | 57000 |\n",
    "| 9 | Linda Clark | 38 | Engineering | 61000 |\n",
    "| 10 | James Lewis | 33 | Finance | 59000 |"
   ]
  }
 ],
 "metadata": {
  "kernelspec": {
   "display_name": "Python 3",
   "language": "python",
   "name": "python3"
  },
  "language_info": {
   "name": "python",
   "version": "3.12.4"
  }
 },
 "nbformat": 4,
 "nbformat_minor": 2
}
